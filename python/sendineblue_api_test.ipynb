{
 "cells": [
  {
   "cell_type": "code",
   "execution_count": null,
   "metadata": {},
   "outputs": [],
   "source": [
    "# https://account.sendinblue.com/advanced/api\n",
    "\n",
    "from __future__ import print_function\n",
    "import time\n",
    "import requests\n",
    "import sib_api_v3_sdk\n",
    "from sib_api_v3_sdk.rest import ApiException\n",
    "from pprint import pprint\n",
    "\n",
    "# chargement de la clef API via dotenv\n",
    "\n",
    "from dotenv import load_dotenv\n",
    "load_dotenv()\n",
    "SIB_API_KEY = os.environ.get('SIB_API_KEY')"
   ]
  },
  {
   "cell_type": "code",
   "execution_count": null,
   "metadata": {},
   "outputs": [],
   "source": [
    "# Get all the contacts : https://developers.sendinblue.com/reference/getcontacts-1\n",
    "\n",
    "def get_all_contacts(apikey, limit = 50, offset = 0, modified_since = '2020-09-20T19:20:30+01:00', sort = 'desc'):\n",
    "    \"\"\"Récupère l'intégralité des contacts du compte\n",
    "\n",
    "    Parameters\n",
    "    ----------\n",
    "    apikey : str\n",
    "        API key\n",
    "    limit : int64\n",
    "        Number of documents per page\n",
    "    offset : int64\n",
    "        Index of the first document in the page\n",
    "    modified_since : string (UTC date-time : 'YYYY-MM-DDTHH:mm:ss.SSSZ')\n",
    "        Filter (urlencoded) the contacts modified after a given UTC date-time (YYYY-MM-DDTHH:mm:ss.SSSZ).\n",
    "    sort : str ('asc' or 'desc')\n",
    "        Sort the results in the ascending/descending order of record creation. Default order is descending if sort is not passed\n",
    "\n",
    "    Returns\n",
    "    -------\n",
    "    contacts : Json\n",
    "        Liste de tous les contacts correspondant à la requête\n",
    "\n",
    "    \"\"\"\n",
    "    configuration = sib_api_v3_sdk.Configuration()\n",
    "    configuration.api_key['api-key'] = apikey\n",
    "    api_instance = sib_api_v3_sdk.ContactsApi(sib_api_v3_sdk.ApiClient(configuration))\n",
    "    try:\n",
    "        api_response = api_instance.get_contacts(limit=limit, offset=offset, modified_since=modified_since, sort = sort)\n",
    "        pprint(api_response)\n",
    "    except ApiException as e:\n",
    "        print(\"Exception when calling ContactsApi->get_contacts: %s\\n\" % e)\n",
    "\n",
    "\n",
    "get_all_contacts(SIB_API_KEY, modified_since = '2022-01-01T00:00:00+01:00')"
   ]
  },
  {
   "cell_type": "code",
   "execution_count": null,
   "metadata": {},
   "outputs": [],
   "source": [
    "# Get all the lists : https://developers.sendinblue.com/reference/getlists-1\n",
    "\n",
    "def get_all_lists(apikey, limit = 50, offset = 0):\n",
    "    \"\"\"Récupère l'intégralité des listes du compte\n",
    "\n",
    "    Parameters\n",
    "    ----------\n",
    "    apikey : str\n",
    "        API key\n",
    "    limit : int64\n",
    "        Number of documents per page\n",
    "    offset : int64\n",
    "        Index of the first document in the page\n",
    "    sort : str ('asc' or 'desc')\n",
    "        Sort the results in the ascending/descending order of record creation. Default order is descending if sort is not passed\n",
    "\n",
    "    Returns\n",
    "    -------\n",
    "    count : int64\n",
    "        Nombre de listes\n",
    "    lists : Json\n",
    "        Liste de toutes les listes suivant la requête\n",
    "\n",
    "    \"\"\"\n",
    "    configuration = sib_api_v3_sdk.Configuration()\n",
    "    configuration.api_key['api-key'] = apikey\n",
    "    api_instance = sib_api_v3_sdk.ListsApi(sib_api_v3_sdk.ApiClient(configuration))\n",
    "\n",
    "    try:\n",
    "        api_response = api_instance.get_lists(limit=limit, offset=offset)\n",
    "        pprint(api_response)\n",
    "    except ApiException as e:\n",
    "        print(\"Exception when calling ListsApi->get_lists: %s\\n\" % e)\n",
    "\n",
    "get_all_lists(SIB_API_KEY)\n",
    "\n"
   ]
  }
 ],
 "metadata": {
  "interpreter": {
   "hash": "916dbcbb3f70747c44a77c7bcd40155683ae19c65e1c03b4aa3499c5328201f1"
  },
  "kernelspec": {
   "display_name": "Python 3.7.6 64-bit ('anaconda3': virtualenv)",
   "language": "python",
   "name": "python3"
  },
  "language_info": {
   "codemirror_mode": {
    "name": "ipython",
    "version": 3
   },
   "file_extension": ".py",
   "mimetype": "text/x-python",
   "name": "python",
   "nbconvert_exporter": "python",
   "pygments_lexer": "ipython3",
   "version": "3.8.10"
  },
  "metadata": {
   "interpreter": {
    "hash": "8e899d3e98047ffaec66fd393f25c4d9fa3665f1e01fb7d35989ee045597fecb"
   }
  },
  "orig_nbformat": 2
 },
 "nbformat": 4,
 "nbformat_minor": 2
}
